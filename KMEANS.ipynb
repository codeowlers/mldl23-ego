{
  "nbformat": 4,
  "nbformat_minor": 0,
  "metadata": {
    "colab": {
      "provenance": []
    },
    "kernelspec": {
      "name": "python3",
      "display_name": "Python 3"
    },
    "language_info": {
      "name": "python"
    }
  },
  "cells": [
    {
      "cell_type": "markdown",
      "source": [
        "### Imports and Configurations"
      ],
      "metadata": {
        "id": "vPvUQ9vanbOM"
      }
    },
    {
      "cell_type": "code",
      "source": [
        "import pickle\n",
        "import pandas as pd\n",
        "import numpy as np\n",
        "from sklearn.metrics import silhouette_score\n",
        "from sklearn.decomposition import PCA\n",
        "from sklearn.cluster import KMeans\n",
        "from sklearn.preprocessing import StandardScaler, MinMaxScaler\n",
        "from sklearn.metrics import silhouette_score, davies_bouldin_score, calinski_harabasz_score\n",
        "from sklearn.metrics import adjusted_rand_score, normalized_mutual_info_score\n",
        "from sklearn.metrics import homogeneity_completeness_v_measure\n",
        "from sklearn.decomposition import PCA\n",
        "import matplotlib.pyplot as plt\n",
        "import seaborn as sns\n",
        "\n",
        "pd.options.display.max_columns = 200\n",
        "np.random.seed(42)\n",
        "\n",
        "# Mount google drive\n",
        "from google.colab import drive\n",
        "drive.mount('/content/drive')"
      ],
      "metadata": {
        "id": "yKLt93UPV_FS",
        "colab": {
          "base_uri": "https://localhost:8080/"
        },
        "outputId": "370c01e2-ed6e-437f-e7d5-ee650beb4c48"
      },
      "execution_count": 1,
      "outputs": [
        {
          "output_type": "stream",
          "name": "stdout",
          "text": [
            "Mounted at /content/drive\n"
          ]
        }
      ]
    },
    {
      "cell_type": "markdown",
      "source": [
        "### Read Data"
      ],
      "metadata": {
        "id": "K0UD-CKxnkgo"
      }
    },
    {
      "cell_type": "code",
      "source": [
        "extracted_features_path = '/content/drive/MyDrive/MLDL23/extracted features/P08/test/uniform/D1_test_uniform_D1_test.pkl'\n",
        "train_vals_path = '/content/drive/MyDrive/MLDL23/train_vals/D1_test.pkl'\n",
        "\n",
        "# Load the data from the pickle file\n",
        "with open(extracted_features_path, 'rb') as file:\n",
        "    data1 = pickle.load(file)\n",
        "\n",
        "# Load the data from the pickle file\n",
        "with open(train_vals_path, 'rb') as file:\n",
        "    data2 = pickle.load(file)\n",
        "\n",
        "df1 = pd.DataFrame(data1['features'])\n",
        "df2 = pd.DataFrame(data2)\n",
        "\n",
        "\n",
        "# Merge dataframes based on the \"uid\" column\n",
        "merged_dataframe = pd.merge(df1, df2, on=\"uid\", how=\"inner\")\n",
        "columns_to_remove = [\"participant_id\", \"video_id\"]\n",
        "columns2_to_remove = [\"video_name\",\"participant_id\", \"video_id\",\"narration\",\t\"start_timestamp\",\t\"stop_timestamp\",\t\"start_frame\",\t\"stop_frame\", \"verb\"]\n",
        "\n",
        "merged_dataframe1 = merged_dataframe.drop(columns=columns2_to_remove)\n",
        "\n",
        "merged_dataframe2 = merged_dataframe.drop(columns=columns_to_remove)"
      ],
      "metadata": {
        "id": "xq297ZQGOw2d"
      },
      "execution_count": 2,
      "outputs": []
    },
    {
      "cell_type": "markdown",
      "source": [
        "### Display Data"
      ],
      "metadata": {
        "id": "UCBRgaDNnTEl"
      }
    },
    {
      "cell_type": "code",
      "source": [
        "df = merged_dataframe1\n",
        "df"
      ],
      "metadata": {
        "id": "rCNlCAWwQNxs",
        "colab": {
          "base_uri": "https://localhost:8080/",
          "height": 424
        },
        "outputId": "97217261-a04d-4f53-b70b-f91da91989d4"
      },
      "execution_count": 3,
      "outputs": [
        {
          "output_type": "execute_result",
          "data": {
            "text/plain": [
              "       uid                                       features_RGB  verb_class\n",
              "0    13744  [[0.10078726, 0.45512, 0.14742485, 0.17402512,...           0\n",
              "1    13747  [[0.104403414, 0.07300105, 0.17237487, 0.28048...           4\n",
              "2    13748  [[0.17538485, 0.029471783, 0.33066574, 0.17496...           7\n",
              "3    13749  [[0.12508923, 0.2824604, 0.5454524, 0.24330871...           0\n",
              "4    13751  [[0.30747718, 0.0422991, 0.38418937, 0.0376957...           4\n",
              "..     ...                                                ...         ...\n",
              "430  14431  [[0.11635426, 0.0, 0.41014212, 0.01234618, 0.1...           4\n",
              "431  14432  [[0.2880178, 0.06559036, 0.15245229, 0.1551841...           1\n",
              "432  14433  [[0.2673539, 0.3871655, 0.49116585, 0.6675695,...           3\n",
              "433  14434  [[0.20000115, 0.12088862, 0.08204682, 0.101484...           3\n",
              "434  14435  [[0.1390533, 0.29524693, 0.007390362, 0.115663...           4\n",
              "\n",
              "[435 rows x 3 columns]"
            ],
            "text/html": [
              "\n",
              "  <div id=\"df-c2ce16d6-bb16-4c0c-95d2-24cfb1acbc52\" class=\"colab-df-container\">\n",
              "    <div>\n",
              "<style scoped>\n",
              "    .dataframe tbody tr th:only-of-type {\n",
              "        vertical-align: middle;\n",
              "    }\n",
              "\n",
              "    .dataframe tbody tr th {\n",
              "        vertical-align: top;\n",
              "    }\n",
              "\n",
              "    .dataframe thead th {\n",
              "        text-align: right;\n",
              "    }\n",
              "</style>\n",
              "<table border=\"1\" class=\"dataframe\">\n",
              "  <thead>\n",
              "    <tr style=\"text-align: right;\">\n",
              "      <th></th>\n",
              "      <th>uid</th>\n",
              "      <th>features_RGB</th>\n",
              "      <th>verb_class</th>\n",
              "    </tr>\n",
              "  </thead>\n",
              "  <tbody>\n",
              "    <tr>\n",
              "      <th>0</th>\n",
              "      <td>13744</td>\n",
              "      <td>[[0.10078726, 0.45512, 0.14742485, 0.17402512,...</td>\n",
              "      <td>0</td>\n",
              "    </tr>\n",
              "    <tr>\n",
              "      <th>1</th>\n",
              "      <td>13747</td>\n",
              "      <td>[[0.104403414, 0.07300105, 0.17237487, 0.28048...</td>\n",
              "      <td>4</td>\n",
              "    </tr>\n",
              "    <tr>\n",
              "      <th>2</th>\n",
              "      <td>13748</td>\n",
              "      <td>[[0.17538485, 0.029471783, 0.33066574, 0.17496...</td>\n",
              "      <td>7</td>\n",
              "    </tr>\n",
              "    <tr>\n",
              "      <th>3</th>\n",
              "      <td>13749</td>\n",
              "      <td>[[0.12508923, 0.2824604, 0.5454524, 0.24330871...</td>\n",
              "      <td>0</td>\n",
              "    </tr>\n",
              "    <tr>\n",
              "      <th>4</th>\n",
              "      <td>13751</td>\n",
              "      <td>[[0.30747718, 0.0422991, 0.38418937, 0.0376957...</td>\n",
              "      <td>4</td>\n",
              "    </tr>\n",
              "    <tr>\n",
              "      <th>...</th>\n",
              "      <td>...</td>\n",
              "      <td>...</td>\n",
              "      <td>...</td>\n",
              "    </tr>\n",
              "    <tr>\n",
              "      <th>430</th>\n",
              "      <td>14431</td>\n",
              "      <td>[[0.11635426, 0.0, 0.41014212, 0.01234618, 0.1...</td>\n",
              "      <td>4</td>\n",
              "    </tr>\n",
              "    <tr>\n",
              "      <th>431</th>\n",
              "      <td>14432</td>\n",
              "      <td>[[0.2880178, 0.06559036, 0.15245229, 0.1551841...</td>\n",
              "      <td>1</td>\n",
              "    </tr>\n",
              "    <tr>\n",
              "      <th>432</th>\n",
              "      <td>14433</td>\n",
              "      <td>[[0.2673539, 0.3871655, 0.49116585, 0.6675695,...</td>\n",
              "      <td>3</td>\n",
              "    </tr>\n",
              "    <tr>\n",
              "      <th>433</th>\n",
              "      <td>14434</td>\n",
              "      <td>[[0.20000115, 0.12088862, 0.08204682, 0.101484...</td>\n",
              "      <td>3</td>\n",
              "    </tr>\n",
              "    <tr>\n",
              "      <th>434</th>\n",
              "      <td>14435</td>\n",
              "      <td>[[0.1390533, 0.29524693, 0.007390362, 0.115663...</td>\n",
              "      <td>4</td>\n",
              "    </tr>\n",
              "  </tbody>\n",
              "</table>\n",
              "<p>435 rows × 3 columns</p>\n",
              "</div>\n",
              "    <div class=\"colab-df-buttons\">\n",
              "\n",
              "  <div class=\"colab-df-container\">\n",
              "    <button class=\"colab-df-convert\" onclick=\"convertToInteractive('df-c2ce16d6-bb16-4c0c-95d2-24cfb1acbc52')\"\n",
              "            title=\"Convert this dataframe to an interactive table.\"\n",
              "            style=\"display:none;\">\n",
              "\n",
              "  <svg xmlns=\"http://www.w3.org/2000/svg\" height=\"24px\" viewBox=\"0 -960 960 960\">\n",
              "    <path d=\"M120-120v-720h720v720H120Zm60-500h600v-160H180v160Zm220 220h160v-160H400v160Zm0 220h160v-160H400v160ZM180-400h160v-160H180v160Zm440 0h160v-160H620v160ZM180-180h160v-160H180v160Zm440 0h160v-160H620v160Z\"/>\n",
              "  </svg>\n",
              "    </button>\n",
              "\n",
              "  <style>\n",
              "    .colab-df-container {\n",
              "      display:flex;\n",
              "      gap: 12px;\n",
              "    }\n",
              "\n",
              "    .colab-df-convert {\n",
              "      background-color: #E8F0FE;\n",
              "      border: none;\n",
              "      border-radius: 50%;\n",
              "      cursor: pointer;\n",
              "      display: none;\n",
              "      fill: #1967D2;\n",
              "      height: 32px;\n",
              "      padding: 0 0 0 0;\n",
              "      width: 32px;\n",
              "    }\n",
              "\n",
              "    .colab-df-convert:hover {\n",
              "      background-color: #E2EBFA;\n",
              "      box-shadow: 0px 1px 2px rgba(60, 64, 67, 0.3), 0px 1px 3px 1px rgba(60, 64, 67, 0.15);\n",
              "      fill: #174EA6;\n",
              "    }\n",
              "\n",
              "    .colab-df-buttons div {\n",
              "      margin-bottom: 4px;\n",
              "    }\n",
              "\n",
              "    [theme=dark] .colab-df-convert {\n",
              "      background-color: #3B4455;\n",
              "      fill: #D2E3FC;\n",
              "    }\n",
              "\n",
              "    [theme=dark] .colab-df-convert:hover {\n",
              "      background-color: #434B5C;\n",
              "      box-shadow: 0px 1px 3px 1px rgba(0, 0, 0, 0.15);\n",
              "      filter: drop-shadow(0px 1px 2px rgba(0, 0, 0, 0.3));\n",
              "      fill: #FFFFFF;\n",
              "    }\n",
              "  </style>\n",
              "\n",
              "    <script>\n",
              "      const buttonEl =\n",
              "        document.querySelector('#df-c2ce16d6-bb16-4c0c-95d2-24cfb1acbc52 button.colab-df-convert');\n",
              "      buttonEl.style.display =\n",
              "        google.colab.kernel.accessAllowed ? 'block' : 'none';\n",
              "\n",
              "      async function convertToInteractive(key) {\n",
              "        const element = document.querySelector('#df-c2ce16d6-bb16-4c0c-95d2-24cfb1acbc52');\n",
              "        const dataTable =\n",
              "          await google.colab.kernel.invokeFunction('convertToInteractive',\n",
              "                                                    [key], {});\n",
              "        if (!dataTable) return;\n",
              "\n",
              "        const docLinkHtml = 'Like what you see? Visit the ' +\n",
              "          '<a target=\"_blank\" href=https://colab.research.google.com/notebooks/data_table.ipynb>data table notebook</a>'\n",
              "          + ' to learn more about interactive tables.';\n",
              "        element.innerHTML = '';\n",
              "        dataTable['output_type'] = 'display_data';\n",
              "        await google.colab.output.renderOutput(dataTable, element);\n",
              "        const docLink = document.createElement('div');\n",
              "        docLink.innerHTML = docLinkHtml;\n",
              "        element.appendChild(docLink);\n",
              "      }\n",
              "    </script>\n",
              "  </div>\n",
              "\n",
              "\n",
              "<div id=\"df-8d3f78a0-3ce3-40df-a6e5-68874e079de3\">\n",
              "  <button class=\"colab-df-quickchart\" onclick=\"quickchart('df-8d3f78a0-3ce3-40df-a6e5-68874e079de3')\"\n",
              "            title=\"Suggest charts.\"\n",
              "            style=\"display:none;\">\n",
              "\n",
              "<svg xmlns=\"http://www.w3.org/2000/svg\" height=\"24px\"viewBox=\"0 0 24 24\"\n",
              "     width=\"24px\">\n",
              "    <g>\n",
              "        <path d=\"M19 3H5c-1.1 0-2 .9-2 2v14c0 1.1.9 2 2 2h14c1.1 0 2-.9 2-2V5c0-1.1-.9-2-2-2zM9 17H7v-7h2v7zm4 0h-2V7h2v10zm4 0h-2v-4h2v4z\"/>\n",
              "    </g>\n",
              "</svg>\n",
              "  </button>\n",
              "\n",
              "<style>\n",
              "  .colab-df-quickchart {\n",
              "      --bg-color: #E8F0FE;\n",
              "      --fill-color: #1967D2;\n",
              "      --hover-bg-color: #E2EBFA;\n",
              "      --hover-fill-color: #174EA6;\n",
              "      --disabled-fill-color: #AAA;\n",
              "      --disabled-bg-color: #DDD;\n",
              "  }\n",
              "\n",
              "  [theme=dark] .colab-df-quickchart {\n",
              "      --bg-color: #3B4455;\n",
              "      --fill-color: #D2E3FC;\n",
              "      --hover-bg-color: #434B5C;\n",
              "      --hover-fill-color: #FFFFFF;\n",
              "      --disabled-bg-color: #3B4455;\n",
              "      --disabled-fill-color: #666;\n",
              "  }\n",
              "\n",
              "  .colab-df-quickchart {\n",
              "    background-color: var(--bg-color);\n",
              "    border: none;\n",
              "    border-radius: 50%;\n",
              "    cursor: pointer;\n",
              "    display: none;\n",
              "    fill: var(--fill-color);\n",
              "    height: 32px;\n",
              "    padding: 0;\n",
              "    width: 32px;\n",
              "  }\n",
              "\n",
              "  .colab-df-quickchart:hover {\n",
              "    background-color: var(--hover-bg-color);\n",
              "    box-shadow: 0 1px 2px rgba(60, 64, 67, 0.3), 0 1px 3px 1px rgba(60, 64, 67, 0.15);\n",
              "    fill: var(--button-hover-fill-color);\n",
              "  }\n",
              "\n",
              "  .colab-df-quickchart-complete:disabled,\n",
              "  .colab-df-quickchart-complete:disabled:hover {\n",
              "    background-color: var(--disabled-bg-color);\n",
              "    fill: var(--disabled-fill-color);\n",
              "    box-shadow: none;\n",
              "  }\n",
              "\n",
              "  .colab-df-spinner {\n",
              "    border: 2px solid var(--fill-color);\n",
              "    border-color: transparent;\n",
              "    border-bottom-color: var(--fill-color);\n",
              "    animation:\n",
              "      spin 1s steps(1) infinite;\n",
              "  }\n",
              "\n",
              "  @keyframes spin {\n",
              "    0% {\n",
              "      border-color: transparent;\n",
              "      border-bottom-color: var(--fill-color);\n",
              "      border-left-color: var(--fill-color);\n",
              "    }\n",
              "    20% {\n",
              "      border-color: transparent;\n",
              "      border-left-color: var(--fill-color);\n",
              "      border-top-color: var(--fill-color);\n",
              "    }\n",
              "    30% {\n",
              "      border-color: transparent;\n",
              "      border-left-color: var(--fill-color);\n",
              "      border-top-color: var(--fill-color);\n",
              "      border-right-color: var(--fill-color);\n",
              "    }\n",
              "    40% {\n",
              "      border-color: transparent;\n",
              "      border-right-color: var(--fill-color);\n",
              "      border-top-color: var(--fill-color);\n",
              "    }\n",
              "    60% {\n",
              "      border-color: transparent;\n",
              "      border-right-color: var(--fill-color);\n",
              "    }\n",
              "    80% {\n",
              "      border-color: transparent;\n",
              "      border-right-color: var(--fill-color);\n",
              "      border-bottom-color: var(--fill-color);\n",
              "    }\n",
              "    90% {\n",
              "      border-color: transparent;\n",
              "      border-bottom-color: var(--fill-color);\n",
              "    }\n",
              "  }\n",
              "</style>\n",
              "\n",
              "  <script>\n",
              "    async function quickchart(key) {\n",
              "      const quickchartButtonEl =\n",
              "        document.querySelector('#' + key + ' button');\n",
              "      quickchartButtonEl.disabled = true;  // To prevent multiple clicks.\n",
              "      quickchartButtonEl.classList.add('colab-df-spinner');\n",
              "      try {\n",
              "        const charts = await google.colab.kernel.invokeFunction(\n",
              "            'suggestCharts', [key], {});\n",
              "      } catch (error) {\n",
              "        console.error('Error during call to suggestCharts:', error);\n",
              "      }\n",
              "      quickchartButtonEl.classList.remove('colab-df-spinner');\n",
              "      quickchartButtonEl.classList.add('colab-df-quickchart-complete');\n",
              "    }\n",
              "    (() => {\n",
              "      let quickchartButtonEl =\n",
              "        document.querySelector('#df-8d3f78a0-3ce3-40df-a6e5-68874e079de3 button');\n",
              "      quickchartButtonEl.style.display =\n",
              "        google.colab.kernel.accessAllowed ? 'block' : 'none';\n",
              "    })();\n",
              "  </script>\n",
              "</div>\n",
              "    </div>\n",
              "  </div>\n"
            ]
          },
          "metadata": {},
          "execution_count": 3
        }
      ]
    },
    {
      "cell_type": "code",
      "source": [
        "merged_dataframe2"
      ],
      "metadata": {
        "id": "qYFkd1IaUeUE",
        "colab": {
          "base_uri": "https://localhost:8080/",
          "height": 597
        },
        "outputId": "6748c2bc-e12b-4409-b862-74587d68b38c"
      },
      "execution_count": 4,
      "outputs": [
        {
          "output_type": "execute_result",
          "data": {
            "text/plain": [
              "       uid video_name                                       features_RGB  \\\n",
              "0    13744     P08_09  [[0.10078726, 0.45512, 0.14742485, 0.17402512,...   \n",
              "1    13747     P08_09  [[0.104403414, 0.07300105, 0.17237487, 0.28048...   \n",
              "2    13748     P08_09  [[0.17538485, 0.029471783, 0.33066574, 0.17496...   \n",
              "3    13749     P08_09  [[0.12508923, 0.2824604, 0.5454524, 0.24330871...   \n",
              "4    13751     P08_09  [[0.30747718, 0.0422991, 0.38418937, 0.0376957...   \n",
              "..     ...        ...                                                ...   \n",
              "430  14431     P08_17  [[0.11635426, 0.0, 0.41014212, 0.01234618, 0.1...   \n",
              "431  14432     P08_17  [[0.2880178, 0.06559036, 0.15245229, 0.1551841...   \n",
              "432  14433     P08_17  [[0.2673539, 0.3871655, 0.49116585, 0.6675695,...   \n",
              "433  14434     P08_17  [[0.20000115, 0.12088862, 0.08204682, 0.101484...   \n",
              "434  14435     P08_17  [[0.1390533, 0.29524693, 0.007390362, 0.115663...   \n",
              "\n",
              "               narration start_timestamp stop_timestamp  start_frame  \\\n",
              "0          get mocha pot     00:00:02.61    00:00:03.61          156   \n",
              "1            clean mocha     00:00:09.66    00:00:10.16          579   \n",
              "2             pour water     00:00:10.26    00:00:12.19          615   \n",
              "3             get filter     00:00:14.11    00:00:15.61          846   \n",
              "4    clean coffee filter     00:00:19.63    00:00:28.67         1177   \n",
              "..                   ...             ...            ...          ...   \n",
              "430         wipe off pan     00:09:27.87    00:09:30.48        34072   \n",
              "431            place pan     00:09:31.76    00:09:36.15        34305   \n",
              "432         close drawer     00:09:36.88    00:09:38.15        34612   \n",
              "433     close dishwasher     00:09:38.30    00:09:39.77        34698   \n",
              "434       wipe off hands     00:09:40.30    00:09:42.33        34818   \n",
              "\n",
              "     stop_frame      verb  verb_class  \n",
              "0           216       get           0  \n",
              "1           609     clean           4  \n",
              "2           731      pour           7  \n",
              "3           936       get           0  \n",
              "4          1720     clean           4  \n",
              "..          ...       ...         ...  \n",
              "430       34228  wipe-off           4  \n",
              "431       34569     place           1  \n",
              "432       34689     close           3  \n",
              "433       34786     close           3  \n",
              "434       34939  wipe-off           4  \n",
              "\n",
              "[435 rows x 10 columns]"
            ],
            "text/html": [
              "\n",
              "  <div id=\"df-81d1f8da-b14b-4f4a-85b8-3fb321b2ea2e\" class=\"colab-df-container\">\n",
              "    <div>\n",
              "<style scoped>\n",
              "    .dataframe tbody tr th:only-of-type {\n",
              "        vertical-align: middle;\n",
              "    }\n",
              "\n",
              "    .dataframe tbody tr th {\n",
              "        vertical-align: top;\n",
              "    }\n",
              "\n",
              "    .dataframe thead th {\n",
              "        text-align: right;\n",
              "    }\n",
              "</style>\n",
              "<table border=\"1\" class=\"dataframe\">\n",
              "  <thead>\n",
              "    <tr style=\"text-align: right;\">\n",
              "      <th></th>\n",
              "      <th>uid</th>\n",
              "      <th>video_name</th>\n",
              "      <th>features_RGB</th>\n",
              "      <th>narration</th>\n",
              "      <th>start_timestamp</th>\n",
              "      <th>stop_timestamp</th>\n",
              "      <th>start_frame</th>\n",
              "      <th>stop_frame</th>\n",
              "      <th>verb</th>\n",
              "      <th>verb_class</th>\n",
              "    </tr>\n",
              "  </thead>\n",
              "  <tbody>\n",
              "    <tr>\n",
              "      <th>0</th>\n",
              "      <td>13744</td>\n",
              "      <td>P08_09</td>\n",
              "      <td>[[0.10078726, 0.45512, 0.14742485, 0.17402512,...</td>\n",
              "      <td>get mocha pot</td>\n",
              "      <td>00:00:02.61</td>\n",
              "      <td>00:00:03.61</td>\n",
              "      <td>156</td>\n",
              "      <td>216</td>\n",
              "      <td>get</td>\n",
              "      <td>0</td>\n",
              "    </tr>\n",
              "    <tr>\n",
              "      <th>1</th>\n",
              "      <td>13747</td>\n",
              "      <td>P08_09</td>\n",
              "      <td>[[0.104403414, 0.07300105, 0.17237487, 0.28048...</td>\n",
              "      <td>clean mocha</td>\n",
              "      <td>00:00:09.66</td>\n",
              "      <td>00:00:10.16</td>\n",
              "      <td>579</td>\n",
              "      <td>609</td>\n",
              "      <td>clean</td>\n",
              "      <td>4</td>\n",
              "    </tr>\n",
              "    <tr>\n",
              "      <th>2</th>\n",
              "      <td>13748</td>\n",
              "      <td>P08_09</td>\n",
              "      <td>[[0.17538485, 0.029471783, 0.33066574, 0.17496...</td>\n",
              "      <td>pour water</td>\n",
              "      <td>00:00:10.26</td>\n",
              "      <td>00:00:12.19</td>\n",
              "      <td>615</td>\n",
              "      <td>731</td>\n",
              "      <td>pour</td>\n",
              "      <td>7</td>\n",
              "    </tr>\n",
              "    <tr>\n",
              "      <th>3</th>\n",
              "      <td>13749</td>\n",
              "      <td>P08_09</td>\n",
              "      <td>[[0.12508923, 0.2824604, 0.5454524, 0.24330871...</td>\n",
              "      <td>get filter</td>\n",
              "      <td>00:00:14.11</td>\n",
              "      <td>00:00:15.61</td>\n",
              "      <td>846</td>\n",
              "      <td>936</td>\n",
              "      <td>get</td>\n",
              "      <td>0</td>\n",
              "    </tr>\n",
              "    <tr>\n",
              "      <th>4</th>\n",
              "      <td>13751</td>\n",
              "      <td>P08_09</td>\n",
              "      <td>[[0.30747718, 0.0422991, 0.38418937, 0.0376957...</td>\n",
              "      <td>clean coffee filter</td>\n",
              "      <td>00:00:19.63</td>\n",
              "      <td>00:00:28.67</td>\n",
              "      <td>1177</td>\n",
              "      <td>1720</td>\n",
              "      <td>clean</td>\n",
              "      <td>4</td>\n",
              "    </tr>\n",
              "    <tr>\n",
              "      <th>...</th>\n",
              "      <td>...</td>\n",
              "      <td>...</td>\n",
              "      <td>...</td>\n",
              "      <td>...</td>\n",
              "      <td>...</td>\n",
              "      <td>...</td>\n",
              "      <td>...</td>\n",
              "      <td>...</td>\n",
              "      <td>...</td>\n",
              "      <td>...</td>\n",
              "    </tr>\n",
              "    <tr>\n",
              "      <th>430</th>\n",
              "      <td>14431</td>\n",
              "      <td>P08_17</td>\n",
              "      <td>[[0.11635426, 0.0, 0.41014212, 0.01234618, 0.1...</td>\n",
              "      <td>wipe off pan</td>\n",
              "      <td>00:09:27.87</td>\n",
              "      <td>00:09:30.48</td>\n",
              "      <td>34072</td>\n",
              "      <td>34228</td>\n",
              "      <td>wipe-off</td>\n",
              "      <td>4</td>\n",
              "    </tr>\n",
              "    <tr>\n",
              "      <th>431</th>\n",
              "      <td>14432</td>\n",
              "      <td>P08_17</td>\n",
              "      <td>[[0.2880178, 0.06559036, 0.15245229, 0.1551841...</td>\n",
              "      <td>place pan</td>\n",
              "      <td>00:09:31.76</td>\n",
              "      <td>00:09:36.15</td>\n",
              "      <td>34305</td>\n",
              "      <td>34569</td>\n",
              "      <td>place</td>\n",
              "      <td>1</td>\n",
              "    </tr>\n",
              "    <tr>\n",
              "      <th>432</th>\n",
              "      <td>14433</td>\n",
              "      <td>P08_17</td>\n",
              "      <td>[[0.2673539, 0.3871655, 0.49116585, 0.6675695,...</td>\n",
              "      <td>close drawer</td>\n",
              "      <td>00:09:36.88</td>\n",
              "      <td>00:09:38.15</td>\n",
              "      <td>34612</td>\n",
              "      <td>34689</td>\n",
              "      <td>close</td>\n",
              "      <td>3</td>\n",
              "    </tr>\n",
              "    <tr>\n",
              "      <th>433</th>\n",
              "      <td>14434</td>\n",
              "      <td>P08_17</td>\n",
              "      <td>[[0.20000115, 0.12088862, 0.08204682, 0.101484...</td>\n",
              "      <td>close dishwasher</td>\n",
              "      <td>00:09:38.30</td>\n",
              "      <td>00:09:39.77</td>\n",
              "      <td>34698</td>\n",
              "      <td>34786</td>\n",
              "      <td>close</td>\n",
              "      <td>3</td>\n",
              "    </tr>\n",
              "    <tr>\n",
              "      <th>434</th>\n",
              "      <td>14435</td>\n",
              "      <td>P08_17</td>\n",
              "      <td>[[0.1390533, 0.29524693, 0.007390362, 0.115663...</td>\n",
              "      <td>wipe off hands</td>\n",
              "      <td>00:09:40.30</td>\n",
              "      <td>00:09:42.33</td>\n",
              "      <td>34818</td>\n",
              "      <td>34939</td>\n",
              "      <td>wipe-off</td>\n",
              "      <td>4</td>\n",
              "    </tr>\n",
              "  </tbody>\n",
              "</table>\n",
              "<p>435 rows × 10 columns</p>\n",
              "</div>\n",
              "    <div class=\"colab-df-buttons\">\n",
              "\n",
              "  <div class=\"colab-df-container\">\n",
              "    <button class=\"colab-df-convert\" onclick=\"convertToInteractive('df-81d1f8da-b14b-4f4a-85b8-3fb321b2ea2e')\"\n",
              "            title=\"Convert this dataframe to an interactive table.\"\n",
              "            style=\"display:none;\">\n",
              "\n",
              "  <svg xmlns=\"http://www.w3.org/2000/svg\" height=\"24px\" viewBox=\"0 -960 960 960\">\n",
              "    <path d=\"M120-120v-720h720v720H120Zm60-500h600v-160H180v160Zm220 220h160v-160H400v160Zm0 220h160v-160H400v160ZM180-400h160v-160H180v160Zm440 0h160v-160H620v160ZM180-180h160v-160H180v160Zm440 0h160v-160H620v160Z\"/>\n",
              "  </svg>\n",
              "    </button>\n",
              "\n",
              "  <style>\n",
              "    .colab-df-container {\n",
              "      display:flex;\n",
              "      gap: 12px;\n",
              "    }\n",
              "\n",
              "    .colab-df-convert {\n",
              "      background-color: #E8F0FE;\n",
              "      border: none;\n",
              "      border-radius: 50%;\n",
              "      cursor: pointer;\n",
              "      display: none;\n",
              "      fill: #1967D2;\n",
              "      height: 32px;\n",
              "      padding: 0 0 0 0;\n",
              "      width: 32px;\n",
              "    }\n",
              "\n",
              "    .colab-df-convert:hover {\n",
              "      background-color: #E2EBFA;\n",
              "      box-shadow: 0px 1px 2px rgba(60, 64, 67, 0.3), 0px 1px 3px 1px rgba(60, 64, 67, 0.15);\n",
              "      fill: #174EA6;\n",
              "    }\n",
              "\n",
              "    .colab-df-buttons div {\n",
              "      margin-bottom: 4px;\n",
              "    }\n",
              "\n",
              "    [theme=dark] .colab-df-convert {\n",
              "      background-color: #3B4455;\n",
              "      fill: #D2E3FC;\n",
              "    }\n",
              "\n",
              "    [theme=dark] .colab-df-convert:hover {\n",
              "      background-color: #434B5C;\n",
              "      box-shadow: 0px 1px 3px 1px rgba(0, 0, 0, 0.15);\n",
              "      filter: drop-shadow(0px 1px 2px rgba(0, 0, 0, 0.3));\n",
              "      fill: #FFFFFF;\n",
              "    }\n",
              "  </style>\n",
              "\n",
              "    <script>\n",
              "      const buttonEl =\n",
              "        document.querySelector('#df-81d1f8da-b14b-4f4a-85b8-3fb321b2ea2e button.colab-df-convert');\n",
              "      buttonEl.style.display =\n",
              "        google.colab.kernel.accessAllowed ? 'block' : 'none';\n",
              "\n",
              "      async function convertToInteractive(key) {\n",
              "        const element = document.querySelector('#df-81d1f8da-b14b-4f4a-85b8-3fb321b2ea2e');\n",
              "        const dataTable =\n",
              "          await google.colab.kernel.invokeFunction('convertToInteractive',\n",
              "                                                    [key], {});\n",
              "        if (!dataTable) return;\n",
              "\n",
              "        const docLinkHtml = 'Like what you see? Visit the ' +\n",
              "          '<a target=\"_blank\" href=https://colab.research.google.com/notebooks/data_table.ipynb>data table notebook</a>'\n",
              "          + ' to learn more about interactive tables.';\n",
              "        element.innerHTML = '';\n",
              "        dataTable['output_type'] = 'display_data';\n",
              "        await google.colab.output.renderOutput(dataTable, element);\n",
              "        const docLink = document.createElement('div');\n",
              "        docLink.innerHTML = docLinkHtml;\n",
              "        element.appendChild(docLink);\n",
              "      }\n",
              "    </script>\n",
              "  </div>\n",
              "\n",
              "\n",
              "<div id=\"df-2192e7c0-be09-4f70-afc3-8d51230d1aac\">\n",
              "  <button class=\"colab-df-quickchart\" onclick=\"quickchart('df-2192e7c0-be09-4f70-afc3-8d51230d1aac')\"\n",
              "            title=\"Suggest charts.\"\n",
              "            style=\"display:none;\">\n",
              "\n",
              "<svg xmlns=\"http://www.w3.org/2000/svg\" height=\"24px\"viewBox=\"0 0 24 24\"\n",
              "     width=\"24px\">\n",
              "    <g>\n",
              "        <path d=\"M19 3H5c-1.1 0-2 .9-2 2v14c0 1.1.9 2 2 2h14c1.1 0 2-.9 2-2V5c0-1.1-.9-2-2-2zM9 17H7v-7h2v7zm4 0h-2V7h2v10zm4 0h-2v-4h2v4z\"/>\n",
              "    </g>\n",
              "</svg>\n",
              "  </button>\n",
              "\n",
              "<style>\n",
              "  .colab-df-quickchart {\n",
              "      --bg-color: #E8F0FE;\n",
              "      --fill-color: #1967D2;\n",
              "      --hover-bg-color: #E2EBFA;\n",
              "      --hover-fill-color: #174EA6;\n",
              "      --disabled-fill-color: #AAA;\n",
              "      --disabled-bg-color: #DDD;\n",
              "  }\n",
              "\n",
              "  [theme=dark] .colab-df-quickchart {\n",
              "      --bg-color: #3B4455;\n",
              "      --fill-color: #D2E3FC;\n",
              "      --hover-bg-color: #434B5C;\n",
              "      --hover-fill-color: #FFFFFF;\n",
              "      --disabled-bg-color: #3B4455;\n",
              "      --disabled-fill-color: #666;\n",
              "  }\n",
              "\n",
              "  .colab-df-quickchart {\n",
              "    background-color: var(--bg-color);\n",
              "    border: none;\n",
              "    border-radius: 50%;\n",
              "    cursor: pointer;\n",
              "    display: none;\n",
              "    fill: var(--fill-color);\n",
              "    height: 32px;\n",
              "    padding: 0;\n",
              "    width: 32px;\n",
              "  }\n",
              "\n",
              "  .colab-df-quickchart:hover {\n",
              "    background-color: var(--hover-bg-color);\n",
              "    box-shadow: 0 1px 2px rgba(60, 64, 67, 0.3), 0 1px 3px 1px rgba(60, 64, 67, 0.15);\n",
              "    fill: var(--button-hover-fill-color);\n",
              "  }\n",
              "\n",
              "  .colab-df-quickchart-complete:disabled,\n",
              "  .colab-df-quickchart-complete:disabled:hover {\n",
              "    background-color: var(--disabled-bg-color);\n",
              "    fill: var(--disabled-fill-color);\n",
              "    box-shadow: none;\n",
              "  }\n",
              "\n",
              "  .colab-df-spinner {\n",
              "    border: 2px solid var(--fill-color);\n",
              "    border-color: transparent;\n",
              "    border-bottom-color: var(--fill-color);\n",
              "    animation:\n",
              "      spin 1s steps(1) infinite;\n",
              "  }\n",
              "\n",
              "  @keyframes spin {\n",
              "    0% {\n",
              "      border-color: transparent;\n",
              "      border-bottom-color: var(--fill-color);\n",
              "      border-left-color: var(--fill-color);\n",
              "    }\n",
              "    20% {\n",
              "      border-color: transparent;\n",
              "      border-left-color: var(--fill-color);\n",
              "      border-top-color: var(--fill-color);\n",
              "    }\n",
              "    30% {\n",
              "      border-color: transparent;\n",
              "      border-left-color: var(--fill-color);\n",
              "      border-top-color: var(--fill-color);\n",
              "      border-right-color: var(--fill-color);\n",
              "    }\n",
              "    40% {\n",
              "      border-color: transparent;\n",
              "      border-right-color: var(--fill-color);\n",
              "      border-top-color: var(--fill-color);\n",
              "    }\n",
              "    60% {\n",
              "      border-color: transparent;\n",
              "      border-right-color: var(--fill-color);\n",
              "    }\n",
              "    80% {\n",
              "      border-color: transparent;\n",
              "      border-right-color: var(--fill-color);\n",
              "      border-bottom-color: var(--fill-color);\n",
              "    }\n",
              "    90% {\n",
              "      border-color: transparent;\n",
              "      border-bottom-color: var(--fill-color);\n",
              "    }\n",
              "  }\n",
              "</style>\n",
              "\n",
              "  <script>\n",
              "    async function quickchart(key) {\n",
              "      const quickchartButtonEl =\n",
              "        document.querySelector('#' + key + ' button');\n",
              "      quickchartButtonEl.disabled = true;  // To prevent multiple clicks.\n",
              "      quickchartButtonEl.classList.add('colab-df-spinner');\n",
              "      try {\n",
              "        const charts = await google.colab.kernel.invokeFunction(\n",
              "            'suggestCharts', [key], {});\n",
              "      } catch (error) {\n",
              "        console.error('Error during call to suggestCharts:', error);\n",
              "      }\n",
              "      quickchartButtonEl.classList.remove('colab-df-spinner');\n",
              "      quickchartButtonEl.classList.add('colab-df-quickchart-complete');\n",
              "    }\n",
              "    (() => {\n",
              "      let quickchartButtonEl =\n",
              "        document.querySelector('#df-2192e7c0-be09-4f70-afc3-8d51230d1aac button');\n",
              "      quickchartButtonEl.style.display =\n",
              "        google.colab.kernel.accessAllowed ? 'block' : 'none';\n",
              "    })();\n",
              "  </script>\n",
              "</div>\n",
              "    </div>\n",
              "  </div>\n"
            ]
          },
          "metadata": {},
          "execution_count": 4
        }
      ]
    },
    {
      "cell_type": "markdown",
      "source": [
        "# PCA"
      ],
      "metadata": {
        "id": "FWo8yD0dVxlL"
      }
    },
    {
      "cell_type": "markdown",
      "source": [
        "### Prepare Data"
      ],
      "metadata": {
        "id": "iFIZE95mnKxA"
      }
    },
    {
      "cell_type": "code",
      "source": [
        "features = df['features_RGB']\n",
        "\n",
        "new_features = []\n",
        "for feat in features:\n",
        "    concatenated_features = np.concatenate([feat[i] for i in range(len(feat))])\n",
        "    new_features.append(concatenated_features)\n",
        "X = np.vstack(new_features)\n",
        "y = np.array(df[\"verb_class\"])\n",
        "\n",
        "print(f\"Shape of X: {X.shape}\")\n",
        "print(f\"Shape of y: {y.shape}\")\n"
      ],
      "metadata": {
        "id": "YhFkxNAhZb5I",
        "colab": {
          "base_uri": "https://localhost:8080/"
        },
        "outputId": "0be5dce5-44ce-4644-9fdc-c10e0e11388e"
      },
      "execution_count": 5,
      "outputs": [
        {
          "output_type": "stream",
          "name": "stdout",
          "text": [
            "Shape of X: (435, 5120)\n",
            "Shape of y: (435,)\n"
          ]
        }
      ]
    },
    {
      "cell_type": "markdown",
      "source": [
        "### Apply Scalers"
      ],
      "metadata": {
        "id": "xJNzcNFGm0bV"
      }
    },
    {
      "cell_type": "code",
      "source": [
        "# Apply Standard Scaler\n",
        "standard_scaler = StandardScaler()\n",
        "X_std = standard_scaler.fit_transform(X)\n",
        "\n",
        "# Apply Min-Max Scaler\n",
        "minmax_scaler = MinMaxScaler()\n",
        "X_mm = minmax_scaler.fit_transform(X)"
      ],
      "metadata": {
        "id": "l7gSjhNYsCyw"
      },
      "execution_count": 6,
      "outputs": []
    },
    {
      "cell_type": "markdown",
      "source": [
        "### Apply PCA"
      ],
      "metadata": {
        "id": "L9W-SglEm8yY"
      }
    },
    {
      "cell_type": "code",
      "source": [
        "# Create a PCA object with all components\n",
        "pca = PCA(n_components=0.9)\n",
        "\n",
        "# Fit the PCA model to the original data\n",
        "pca.fit(X)\n",
        "\n",
        "# Calculate cumulative explained variance\n",
        "cumulative_variances_original = np.cumsum(pca.explained_variance_ratio_)\n",
        "\n",
        "# Fit the PCA model to the standardized data\n",
        "pca.fit(X_std)\n",
        "\n",
        "# Calculate cumulative explained variance\n",
        "cumulative_variances_standardized = np.cumsum(pca.explained_variance_ratio_)\n",
        "\n",
        "# Fit the PCA model to the min-max scaled data\n",
        "pca.fit(X_mm)\n",
        "\n",
        "# Calculate cumulative explained variance\n",
        "cumulative_variances_minmax = np.cumsum(pca.explained_variance_ratio_)\n",
        "\n",
        "\n",
        "X_pca = pca.fit_transform(X)\n",
        "X_pca_mm = pca.fit_transform(X_mm)\n",
        "X_pca_std = pca.fit_transform(X_std)"
      ],
      "metadata": {
        "id": "wrEjYmPJsUwi"
      },
      "execution_count": 7,
      "outputs": []
    },
    {
      "cell_type": "markdown",
      "source": [
        "### Plot: Cumulative Explained Variance"
      ],
      "metadata": {
        "id": "MyJUkRGInD10"
      }
    },
    {
      "cell_type": "code",
      "source": [
        "plt.plot(cumulative_variances_original, label='Original')\n",
        "plt.plot(cumulative_variances_standardized, label='Standardized')\n",
        "plt.plot(cumulative_variances_minmax, label='Min-Max Scaled')\n",
        "plt.xlabel('Number of Components')\n",
        "plt.ylabel('Cumulative Explained Variance')\n",
        "plt.title('Cumulative Explained Variance by Number of Components')\n",
        "plt.legend()\n",
        "plt.show()"
      ],
      "metadata": {
        "id": "iOZSZCrwsqmz",
        "colab": {
          "base_uri": "https://localhost:8080/",
          "height": 472
        },
        "outputId": "cb7d4106-a34f-46b4-95ac-c39c91c8c9fd"
      },
      "execution_count": 8,
      "outputs": [
        {
          "output_type": "display_data",
          "data": {
            "text/plain": [
              "<Figure size 640x480 with 1 Axes>"
            ],
            "image/png": "[encoded data removed]"
          },
          "metadata": {}
        }
      ]
    },
    {
      "cell_type": "markdown",
      "source": [
        "# Metrics"
      ],
      "metadata": {
        "id": "sN0shpnqxqf_"
      }
    },
    {
      "cell_type": "markdown",
      "source": [
        "## Function"
      ],
      "metadata": {
        "id": "kIRkxY_Kmrhb"
      }
    },
    {
      "cell_type": "code",
      "source": [
        "def evaluate_clustering_metrics(data, predicted_labels, true_labels, kmeans):\n",
        "\n",
        "    # Silhouette Score\n",
        "    silhouette_avg = silhouette_score(data, predicted_labels)\n",
        "\n",
        "    # Davies-Bouldin Index\n",
        "    davies_bouldin = davies_bouldin_score(data, predicted_labels)\n",
        "\n",
        "    # Calinski-Harabasz Index (Variance Ratio Criterion)\n",
        "    calinski_harabasz = calinski_harabasz_score(data, predicted_labels)\n",
        "\n",
        "    # Adjusted Rand Index\n",
        "    ari = adjusted_rand_score(true_labels, predicted_labels)\n",
        "\n",
        "    # Normalized Mutual Information\n",
        "    nmi = normalized_mutual_info_score(true_labels, predicted_labels)\n",
        "\n",
        "    # Homogeneity, Completeness, and V-measure\n",
        "    homogeneity, completeness, v_measure = homogeneity_completeness_v_measure(true_labels, predicted_labels)\n",
        "\n",
        "    metrics = {\n",
        "        \"Silhouette Score\": silhouette_avg,\n",
        "        \"Davies-Bouldin Index\": davies_bouldin,\n",
        "        \"Calinski-Harabasz Index\": calinski_harabasz,\n",
        "        \"Adjusted Rand Index\": ari,\n",
        "        \"Normalized Mutual Information\": nmi,\n",
        "        \"Homogeneity\": homogeneity,\n",
        "        \"Completeness\": completeness,\n",
        "        \"V-measure\": v_measure\n",
        "    }\n",
        "\n",
        "    return metrics\n"
      ],
      "metadata": {
        "id": "n92ziwg0kM6n"
      },
      "execution_count": 9,
      "outputs": []
    },
    {
      "cell_type": "markdown",
      "source": [
        "## Original Data"
      ],
      "metadata": {
        "id": "yfpCZsnHxxgG"
      }
    },
    {
      "cell_type": "code",
      "source": [
        "kmeans_original = KMeans(n_clusters=8, random_state=42, n_init='auto')\n",
        "labels_pred_original = kmeans_original.fit_predict(X_pca)\n",
        "\n",
        "metrics_original = evaluate_clustering_metrics(X_pca, labels_pred_original, y, kmeans_original)\n",
        "for metric_name, value in metrics_original.items():\n",
        "    print(f\"{metric_name}: {value}\")"
      ],
      "metadata": {
        "id": "jQS7lSBRxpUo",
        "colab": {
          "base_uri": "https://localhost:8080/"
        },
        "outputId": "1d2076be-81e9-47a2-b6ff-2415a1b86c41"
      },
      "execution_count": 10,
      "outputs": [
        {
          "output_type": "stream",
          "name": "stdout",
          "text": [
            "Silhouette Score: 0.041155461221933365\n",
            "Davies-Bouldin Index: 2.7517539199025567\n",
            "Calinski-Harabasz Index: 11.519580215270402\n",
            "Adjusted Rand Index: 0.13681906304566951\n",
            "Normalized Mutual Information: 0.2703064341722431\n",
            "Homogeneity: 0.24590376579960205\n",
            "Completeness: 0.30008596280086053\n",
            "V-measure: 0.2703064341722431\n"
          ]
        }
      ]
    },
    {
      "cell_type": "markdown",
      "source": [
        "## Min Max Scaled Data"
      ],
      "metadata": {
        "id": "Mq49XP8jx9H8"
      }
    },
    {
      "cell_type": "code",
      "source": [
        "kmeans_mm = KMeans(n_clusters=8, random_state=42, n_init='auto')\n",
        "labels_pred_mm = kmeans_original.fit_predict(X_pca_mm)\n",
        "\n",
        "metrics_mm = evaluate_clustering_metrics(X_pca_mm, labels_pred_mm, y, kmeans_mm)\n",
        "for metric_name, value in metrics_mm.items():\n",
        "    print(f\"{metric_name}: {value}\")"
      ],
      "metadata": {
        "id": "KDx4Oxpaxptv",
        "colab": {
          "base_uri": "https://localhost:8080/"
        },
        "outputId": "62687116-5767-4855-cecb-b051ac29ae44"
      },
      "execution_count": 11,
      "outputs": [
        {
          "output_type": "stream",
          "name": "stdout",
          "text": [
            "Silhouette Score: 0.019118856638669968\n",
            "Davies-Bouldin Index: 3.507107518783095\n",
            "Calinski-Harabasz Index: 8.941544613661758\n",
            "Adjusted Rand Index: 0.07855262340669743\n",
            "Normalized Mutual Information: 0.22566055627339568\n",
            "Homogeneity: 0.21150460111231742\n",
            "Completeness: 0.2418473443855343\n",
            "V-measure: 0.22566055627339568\n"
          ]
        }
      ]
    },
    {
      "cell_type": "markdown",
      "source": [
        "## Standard Scaled Data"
      ],
      "metadata": {
        "id": "y12vbxYZyD78"
      }
    },
    {
      "cell_type": "code",
      "source": [
        "kmeans_std = KMeans(n_clusters=8, random_state=42, n_init='auto')\n",
        "labels_pred_std = kmeans_original.fit_predict(X_pca_std)\n",
        "\n",
        "metrics_std = evaluate_clustering_metrics(X_pca_std, labels_pred_std, y, kmeans_std)\n",
        "for metric_name, value in metrics_std.items():\n",
        "    print(f\"{metric_name}: {value}\")"
      ],
      "metadata": {
        "id": "O8UYkbCtxqGU",
        "colab": {
          "base_uri": "https://localhost:8080/"
        },
        "outputId": "2026a9b5-12f0-4806-8e62-056dba45abb3"
      },
      "execution_count": 12,
      "outputs": [
        {
          "output_type": "stream",
          "name": "stdout",
          "text": [
            "Silhouette Score: 0.024008069187402725\n",
            "Davies-Bouldin Index: 3.8002983943072195\n",
            "Calinski-Harabasz Index: 10.610362397444874\n",
            "Adjusted Rand Index: 0.10143330105410663\n",
            "Normalized Mutual Information: 0.24241781861065972\n",
            "Homogeneity: 0.24337564865965758\n",
            "Completeness: 0.24146749828491068\n",
            "V-measure: 0.24241781861065972\n"
          ]
        }
      ]
    },
    {
      "cell_type": "markdown",
      "source": [
        "# Analytics"
      ],
      "metadata": {
        "id": "iuuFjMc9mfPp"
      }
    },
    {
      "cell_type": "code",
      "source": [
        "# Assuming 'cluster_labels' contains the cluster labels assigned by KMeans\n",
        "# and 'original_labels' contains the true labels of your data\n",
        "clustered_data = pd.DataFrame({'Cluster (Predicted)': labels_pred_original, 'Class (Original)': y})\n",
        "\n",
        "# Count the occurrences of each class in each cluster\n",
        "cluster_class_counts = clustered_data.groupby(['Cluster (Predicted)', 'Class (Original)']).size().unstack(fill_value=0)\n",
        "\n",
        "# Normalize the counts to get distribution percentages\n",
        "cluster_class_distribution = cluster_class_counts.div(cluster_class_counts.sum(axis=1), axis=0)\n",
        "# Invert the order of y-axis labels\n",
        "cluster_class_distribution = cluster_class_distribution.iloc[::-1]\n",
        "\n",
        "# Plot the distribution using a heatmap\n",
        "plt.figure(figsize=(10, 6))\n",
        "sns.heatmap(cluster_class_distribution, annot=True, cmap='Blues', fmt=\".2f\")\n",
        "plt.title('Clustered Class Distribution')\n",
        "plt.xlabel('Class')\n",
        "plt.ylabel('Cluster')\n",
        "plt.show()"
      ],
      "metadata": {
        "id": "naAMdJ6MWLM4",
        "colab": {
          "base_uri": "https://localhost:8080/",
          "height": 564
        },
        "outputId": "b8750487-7a13-4890-a0db-6bc431082907"
      },
      "execution_count": 13,
      "outputs": [
        {
          "output_type": "display_data",
          "data": {
            "text/plain": [
              "<Figure size 1000x600 with 2 Axes>"
            ],
            "image/png": "[encoded data removed]"
          },
          "metadata": {}
        }
      ]
    },
    {
      "cell_type": "code",
      "source": [
        "def plot_cluster_sizes_subplots(cluster_labels_list, dataset_names):\n",
        "    num_datasets = len(cluster_labels_list)\n",
        "    fig, axes = plt.subplots(1, num_datasets, figsize=(20, 6))\n",
        "\n",
        "    for i, (cluster_labels, dataset_name) in enumerate(zip(cluster_labels_list, dataset_names)):\n",
        "        unique_clusters, cluster_counts = np.unique(cluster_labels, return_counts=True)\n",
        "        axes[i].bar(unique_clusters, cluster_counts)\n",
        "        axes[i].set_title(f'Cluster Sizes - {dataset_name}')\n",
        "        axes[i].set_xlabel('Cluster')\n",
        "        axes[i].set_ylabel('Number of Data Points')\n",
        "\n",
        "    plt.tight_layout()\n",
        "    plt.show()\n",
        "\n",
        "cluster_labels_list = [labels_pred_mm, labels_pred_std, labels_pred_original, y]\n",
        "dataset_names = ['MinMax Scaled Data', 'Standard Scaled Data', 'Original Data','True Labels']\n",
        "\n",
        "plot_cluster_sizes_subplots(cluster_labels_list, dataset_names)\n"
      ],
      "metadata": {
        "id": "P6OdjCUpp0LF",
        "colab": {
          "base_uri": "https://localhost:8080/",
          "height": 386
        },
        "outputId": "de7d9190-1a09-4d89-b2bf-356289bfa6e9"
      },
      "execution_count": 14,
      "outputs": [
        {
          "output_type": "display_data",
          "data": {
            "text/plain": [
              "<Figure size 2000x600 with 4 Axes>"
            ],
            "image/png": "[encoded data removed]"
          },
          "metadata": {}
        }
      ]
    }
  ]
}