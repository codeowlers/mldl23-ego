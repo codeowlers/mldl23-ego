{
  "nbformat": 4,
  "nbformat_minor": 0,
  "metadata": {
    "colab": {
      "provenance": []
    },
    "kernelspec": {
      "name": "python3",
      "display_name": "Python 3"
    },
    "language_info": {
      "name": "python"
    }
  },
  "cells": [
    {
      "cell_type": "code",
      "execution_count": 1,
      "metadata": {
        "colab": {
          "base_uri": "https://localhost:8080/"
        },
        "id": "EWus8l80KPXv",
        "outputId": "a44a2e46-cbcc-4f3f-d334-c635da592905"
      },
      "outputs": [
        {
          "output_type": "stream",
          "name": "stdout",
          "text": [
            "Mounted at /content/drive\n"
          ]
        }
      ],
      "source": [
        "# Mount google drive\n",
        "from google.colab import drive\n",
        "drive.mount('/content/drive')\n"
      ]
    },
    {
      "cell_type": "code",
      "source": [
        "# Clone the public repository (or your repository)\n",
        "!git clone https://github.com/codeowlers/mldl23-ego.git mldl23-ego"
      ],
      "metadata": {
        "colab": {
          "base_uri": "https://localhost:8080/"
        },
        "id": "bKoGIfpdKaQp",
        "outputId": "eaf66d35-1cc3-464f-8257-f2d64702a2f1"
      },
      "execution_count": 2,
      "outputs": [
        {
          "output_type": "stream",
          "name": "stdout",
          "text": [
            "Cloning into 'mldl23-ego'...\n",
            "remote: Enumerating objects: 101, done.\u001b[K\n",
            "remote: Counting objects: 100% (37/37), done.\u001b[K\n",
            "remote: Compressing objects: 100% (27/27), done.\u001b[K\n",
            "remote: Total 101 (delta 14), reused 24 (delta 7), pack-reused 64\u001b[K\n",
            "Receiving objects: 100% (101/101), 92.62 MiB | 31.55 MiB/s, done.\n",
            "Resolving deltas: 100% (22/22), done.\n"
          ]
        }
      ]
    },
    {
      "cell_type": "code",
      "source": [
        "!chmod +x /content/drive/MyDrive/MLDL23/usr-egovision/local/envs/egovision/bin/python\n"
      ],
      "metadata": {
        "id": "v8-hewCEKbFN"
      },
      "execution_count": 3,
      "outputs": []
    },
    {
      "cell_type": "code",
      "source": [
        "%%bash\n",
        "\n",
        "cd mldl23-ego\n",
        "\n",
        "PYTHON_PATH=/content/drive/MyDrive/MLDL23/usr-egovision/local/envs/egovision/bin/python\n",
        "$PYTHON_PATH epic_kitchen.py \\\n",
        "/content/drive/MyDrive/MLDL23/extracted_features/with_labels/D1_train_dense_with_labels.pkl \\\n",
        "/content/drive/MyDrive/MLDL23/extracted_features/with_labels/D1_test_dense_with_labels.pkl \\\n",
        "0.01 \\\n",
        "50"
      ],
      "metadata": {
        "colab": {
          "base_uri": "https://localhost:8080/"
        },
        "id": "VKeBYll0Kgle",
        "outputId": "66e02f6a-d5d7-41c2-e776-f1edb3488c76"
      },
      "execution_count": 18,
      "outputs": [
        {
          "output_type": "stream",
          "name": "stderr",
          "text": [
            "2023-09-04 15:45:37 LOG INFO Epoch 1, Loss: 1.3621567743165153, Accuracy: 40.76%, Epoch Time: 1.27 seconds\n",
            "2023-09-04 15:45:38 LOG INFO Epoch 2, Loss: 0.8869252314372938, Accuracy: 57.42%, Epoch Time: 2.45 seconds\n",
            "2023-09-04 15:45:39 LOG INFO Epoch 3, Loss: 0.5740256488931422, Accuracy: 77.25%, Epoch Time: 3.65 seconds\n",
            "2023-09-04 15:45:41 LOG INFO Epoch 4, Loss: 0.3599029951253716, Accuracy: 86.97%, Epoch Time: 5.32 seconds\n",
            "2023-09-04 15:45:43 LOG INFO Epoch 5, Loss: 0.27936101689630627, Accuracy: 90.86%, Epoch Time: 7.18 seconds\n",
            "2023-09-04 15:45:44 LOG INFO Epoch 6, Loss: 0.25719323281997014, Accuracy: 91.12%, Epoch Time: 8.96 seconds\n",
            "2023-09-04 15:45:46 LOG INFO Epoch 7, Loss: 0.13897248912526636, Accuracy: 93.97%, Epoch Time: 10.14 seconds\n",
            "2023-09-04 15:45:47 LOG INFO Epoch 8, Loss: 0.16119501274079084, Accuracy: 93.97%, Epoch Time: 11.34 seconds\n",
            "2023-09-04 15:45:48 LOG INFO Epoch 9, Loss: 0.14831415904514797, Accuracy: 94.94%, Epoch Time: 12.64 seconds\n",
            "2023-09-04 15:45:49 LOG INFO Epoch 10, Loss: 0.1534814859540867, Accuracy: 94.04%, Epoch Time: 13.94 seconds\n",
            "2023-09-04 15:45:51 LOG INFO Epoch 11, Loss: 0.153091434037731, Accuracy: 94.94%, Epoch Time: 15.55 seconds\n",
            "2023-09-04 15:45:53 LOG INFO Epoch 12, Loss: 0.092854142844753, Accuracy: 96.31%, Epoch Time: 17.24 seconds\n",
            "2023-09-04 15:45:55 LOG INFO Epoch 13, Loss: 0.11959110358159761, Accuracy: 95.85%, Epoch Time: 19.26 seconds\n",
            "2023-09-04 15:45:57 LOG INFO Epoch 14, Loss: 0.06730045299924796, Accuracy: 98.25%, Epoch Time: 21.90 seconds\n",
            "2023-09-04 15:46:00 LOG INFO Epoch 15, Loss: 0.04853981274699232, Accuracy: 98.31%, Epoch Time: 24.18 seconds\n",
            "2023-09-04 15:46:01 LOG INFO Epoch 16, Loss: 0.05555544239088741, Accuracy: 98.25%, Epoch Time: 26.04 seconds\n",
            "2023-09-04 15:46:03 LOG INFO Epoch 17, Loss: 0.07328627827786366, Accuracy: 97.80%, Epoch Time: 27.87 seconds\n",
            "2023-09-04 15:46:05 LOG INFO Epoch 18, Loss: 0.051667806749441186, Accuracy: 98.83%, Epoch Time: 29.91 seconds\n",
            "2023-09-04 15:46:07 LOG INFO Epoch 19, Loss: 0.09291288341283893, Accuracy: 97.41%, Epoch Time: 31.86 seconds\n",
            "2023-09-04 15:46:09 LOG INFO Epoch 20, Loss: 0.03798963999487365, Accuracy: 99.42%, Epoch Time: 34.03 seconds\n",
            "2023-09-04 15:46:12 LOG INFO Epoch 21, Loss: 0.029084964752525724, Accuracy: 99.22%, Epoch Time: 36.87 seconds\n",
            "2023-09-04 15:46:15 LOG INFO Epoch 22, Loss: 0.08889859587391269, Accuracy: 97.34%, Epoch Time: 39.16 seconds\n",
            "2023-09-04 15:46:17 LOG INFO Epoch 23, Loss: 0.04217429845344408, Accuracy: 98.96%, Epoch Time: 41.12 seconds\n",
            "2023-09-04 15:46:19 LOG INFO Epoch 24, Loss: 0.023108236464952137, Accuracy: 99.61%, Epoch Time: 43.16 seconds\n",
            "2023-09-04 15:46:20 LOG INFO Epoch 25, Loss: 0.07854236248994664, Accuracy: 98.31%, Epoch Time: 45.07 seconds\n",
            "2023-09-04 15:46:23 LOG INFO Epoch 26, Loss: 0.07427430393801508, Accuracy: 98.06%, Epoch Time: 47.11 seconds\n",
            "2023-09-04 15:46:25 LOG INFO Epoch 27, Loss: 0.039300807849123924, Accuracy: 98.83%, Epoch Time: 49.89 seconds\n",
            "2023-09-04 15:46:28 LOG INFO Epoch 28, Loss: 0.08890375377056758, Accuracy: 97.80%, Epoch Time: 52.90 seconds\n",
            "2023-09-04 15:46:31 LOG INFO Epoch 29, Loss: 0.037852401973674316, Accuracy: 98.77%, Epoch Time: 55.36 seconds\n",
            "2023-09-04 15:46:33 LOG INFO Epoch 30, Loss: 0.02974587106632962, Accuracy: 99.16%, Epoch Time: 57.84 seconds\n",
            "2023-09-04 15:46:36 LOG INFO Epoch 31, Loss: 0.05437255397703907, Accuracy: 98.57%, Epoch Time: 60.26 seconds\n",
            "2023-09-04 15:46:38 LOG INFO Epoch 32, Loss: 0.06697760227050785, Accuracy: 98.38%, Epoch Time: 62.74 seconds\n",
            "2023-09-04 15:46:41 LOG INFO Epoch 33, Loss: 0.01773362248731042, Accuracy: 99.35%, Epoch Time: 66.03 seconds\n",
            "2023-09-04 15:46:44 LOG INFO Epoch 34, Loss: 0.048244346638818325, Accuracy: 98.70%, Epoch Time: 68.69 seconds\n",
            "2023-09-04 15:46:47 LOG INFO Epoch 35, Loss: 0.029866368662995378, Accuracy: 99.35%, Epoch Time: 71.19 seconds\n",
            "2023-09-04 15:46:49 LOG INFO Epoch 36, Loss: 0.009338550983686997, Accuracy: 99.68%, Epoch Time: 73.72 seconds\n",
            "2023-09-04 15:46:52 LOG INFO Epoch 37, Loss: 0.0027918413319528144, Accuracy: 99.94%, Epoch Time: 76.31 seconds\n",
            "2023-09-04 15:46:55 LOG INFO Epoch 38, Loss: 0.0001754100321147921, Accuracy: 100.00%, Epoch Time: 79.90 seconds\n",
            "2023-09-04 15:46:59 LOG INFO Epoch 39, Loss: 9.838910134894089e-05, Accuracy: 100.00%, Epoch Time: 83.10 seconds\n",
            "2023-09-04 15:47:01 LOG INFO Epoch 40, Loss: 7.533324832347346e-05, Accuracy: 100.00%, Epoch Time: 85.98 seconds\n",
            "2023-09-04 15:47:04 LOG INFO Epoch 41, Loss: 6.116327954352565e-05, Accuracy: 100.00%, Epoch Time: 88.74 seconds\n",
            "2023-09-04 15:47:07 LOG INFO Epoch 42, Loss: 5.196565036051336e-05, Accuracy: 100.00%, Epoch Time: 91.75 seconds\n",
            "2023-09-04 15:47:11 LOG INFO Epoch 43, Loss: 4.437790407420686e-05, Accuracy: 100.00%, Epoch Time: 95.56 seconds\n",
            "2023-09-04 15:47:14 LOG INFO Epoch 44, Loss: 3.875944178486991e-05, Accuracy: 100.00%, Epoch Time: 98.55 seconds\n",
            "2023-09-04 15:47:17 LOG INFO Epoch 45, Loss: 3.448498754161327e-05, Accuracy: 100.00%, Epoch Time: 101.45 seconds\n",
            "2023-09-04 15:47:20 LOG INFO Epoch 46, Loss: 3.0814232137085386e-05, Accuracy: 100.00%, Epoch Time: 104.31 seconds\n",
            "2023-09-04 15:47:23 LOG INFO Epoch 47, Loss: 2.798176869502492e-05, Accuracy: 100.00%, Epoch Time: 107.71 seconds\n",
            "2023-09-04 15:47:27 LOG INFO Epoch 48, Loss: 2.5476593176493653e-05, Accuracy: 100.00%, Epoch Time: 111.28 seconds\n",
            "2023-09-04 15:47:30 LOG INFO Epoch 49, Loss: 2.345882718164292e-05, Accuracy: 100.00%, Epoch Time: 114.16 seconds\n",
            "2023-09-04 15:47:33 LOG INFO Epoch 50, Loss: 2.1395359815832475e-05, Accuracy: 100.00%, Epoch Time: 117.10 seconds\n",
            "2023-09-04 15:47:33 LOG INFO Total Training Time: 117.10 seconds\n",
            "2023-09-04 15:47:33 LOG INFO Class 0 Accuracy: 43.55%\n",
            "2023-09-04 15:47:33 LOG INFO Class 1 Accuracy: 63.46%\n",
            "2023-09-04 15:47:33 LOG INFO Class 2 Accuracy: 75.00%\n",
            "2023-09-04 15:47:33 LOG INFO Class 3 Accuracy: 50.00%\n",
            "2023-09-04 15:47:33 LOG INFO Class 4 Accuracy: 69.70%\n",
            "2023-09-04 15:47:33 LOG INFO Class 5 Accuracy: 46.15%\n",
            "2023-09-04 15:47:33 LOG INFO Class 6 Accuracy: 70.00%\n",
            "2023-09-04 15:47:33 LOG INFO Class 7 Accuracy: 27.27%\n",
            "2023-09-04 15:47:33 LOG INFO Overall Validation Accuracy: 57.01%\n"
          ]
        }
      ]
    }
  ]
}